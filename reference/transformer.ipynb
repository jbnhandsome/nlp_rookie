{
 "cells": [
  {
   "cell_type": "code",
   "execution_count": 2,
   "source": [
    "import math\r\n",
    "import torch\r\n",
    "from torch import nn\r\n",
    "from d2l import torch as d2l"
   ],
   "outputs": [],
   "metadata": {}
  },
  {
   "cell_type": "code",
   "execution_count": 3,
   "source": [
    "#@save\r\n",
    "class MultiHeadAttention(nn.Module):\r\n",
    "    def __init__(self, key_size, query_size, value_size, num_hiddens,\r\n",
    "                 num_heads, dropout, bias=False, **kwargs):\r\n",
    "        super(MultiHeadAttention, self).__init__(**kwargs)\r\n",
    "        self.num_heads = num_heads\r\n",
    "        self.attention = d2l.DotProductAttention(dropout)\r\n",
    "        self.W_q = nn.Linear(query_size, num_hiddens, bias=bias)\r\n",
    "        self.W_k = nn.Linear(key_size, num_hiddens, bias=bias)\r\n",
    "        self.W_v = nn.Linear(value_size, num_hiddens, bias=bias)\r\n",
    "        self.W_o = nn.Linear(num_hiddens, num_hiddens, bias=bias)\r\n",
    "\r\n",
    "    def forward(self, queries, keys, values, valid_lens):\r\n",
    "        # `queries`, `keys`, or `values` 的形状:\r\n",
    "        # (`batch_size`, 查询或者“键－值”对的个数, `num_hiddens`)\r\n",
    "        # `valid_lens`　的形状:\r\n",
    "        # (`batch_size`,) or (`batch_size`, 查询的个数)\r\n",
    "        # 经过变换后，输出的 `queries`, `keys`, or `values`　的形状:\r\n",
    "        # (`batch_size` * `num_heads`, 查询或者“键－值”对的个数,\r\n",
    "        # `num_hiddens` / `num_heads`)\r\n",
    "        queries = transpose_qkv(self.W_q(queries), self.num_heads)\r\n",
    "        keys = transpose_qkv(self.W_k(keys), self.num_heads)\r\n",
    "        values = transpose_qkv(self.W_v(values), self.num_heads)\r\n",
    "\r\n",
    "        if valid_lens is not None:\r\n",
    "            # 在轴 0，将第一项（标量或者矢量）复制 `num_heads` 次，\r\n",
    "            # 然后如此复制第二项，然后诸如此类。\r\n",
    "            valid_lens = torch.repeat_interleave(\r\n",
    "                valid_lens, repeats=self.num_heads, dim=0)\r\n",
    "\r\n",
    "        # `output` 的形状: (`batch_size` * `num_heads`, 查询的个数,\r\n",
    "        # `num_hiddens` / `num_heads`)\r\n",
    "        output = self.attention(queries, keys, values, valid_lens)\r\n",
    "\r\n",
    "        # `output_concat` 的形状: (`batch_size`, 查询的个数, `num_hiddens`)\r\n",
    "        output_concat = transpose_output(output, self.num_heads)\r\n",
    "        return self.W_o(output_concat)"
   ],
   "outputs": [],
   "metadata": {}
  },
  {
   "cell_type": "code",
   "execution_count": 4,
   "source": [
    "def transpose_qkv(X, num_heads):\r\n",
    "    X = X.reshape(X.shape[0],X.shape[1],num_heads,-1) #把原始张量切成四个维度，第三个维度是num_head的维度，\r\n",
    "    #最后一个维度是num_hidden/num_head\r\n",
    "    X = X.permute(0,2,1,3)  #交换维度的位置 \r\n",
    "    return X.reshape(-1, X.shape[2],X.shape[3]) #把前两个维度融合一下 batch和head\r\n",
    "\r\n",
    "def transpose_output(X, num_heads):\r\n",
    "    #逆转上面函数的操作\r\n",
    "    X = X.reshape(-1,num_heads,X.shape[1],X.shape[2])\r\n",
    "    X = X.permute(0,2,1,3)  #交换维度的位置 \r\n",
    "    return X.reshape(X.shape[0],X.shape[1],-1)"
   ],
   "outputs": [],
   "metadata": {}
  },
  {
   "cell_type": "code",
   "execution_count": 5,
   "source": [
    "#测试\r\n",
    "num_hiddens, num_heads = 100,5\r\n",
    "attention = MultiHeadAttention(num_hiddens,num_hiddens,num_hiddens,num_hiddens,num_heads,0.5)\r\n",
    "attention.eval()#eval() 函数用来执行一个字符串表达式，并返回表达式的值。\r\n",
    "batch_size,num_quires,num_kvpairs,valid_lens=2,4,6,torch.tensor([3,2])\r\n",
    "X = torch.ones((batch_size,num_quires,num_hiddens))\r\n",
    "Y = torch.ones((batch_size,num_kvpairs,num_hiddens))\r\n",
    "attention(X,Y,Y,valid_lens).shape"
   ],
   "outputs": [
    {
     "output_type": "execute_result",
     "data": {
      "text/plain": [
       "torch.Size([2, 4, 100])"
      ]
     },
     "metadata": {},
     "execution_count": 5
    }
   ],
   "metadata": {}
  },
  {
   "cell_type": "code",
   "execution_count": 6,
   "source": [
    "#Transformer\r\n",
    "#@save\r\n",
    "#基于位置的前馈神经网络\r\n",
    "#输入 X 的形状（批量大小、时间步数或序列长度、隐单元数或特征维度）\r\n",
    "# 将被一个两层的感知机转换成形状为（批量大小、时间步数、ffn_num_outputs）的输出张量。\r\n",
    "class PositionWiseFFN(nn.Module):\r\n",
    "    def __init__(self, ffn_num_input, ffn_num_hiddens, ffn_num_outputs,\r\n",
    "                 **kwargs):\r\n",
    "        super(PositionWiseFFN, self).__init__(**kwargs)\r\n",
    "        self.dense1 = nn.Linear(ffn_num_input, ffn_num_hiddens)\r\n",
    "        self.relu = nn.ReLU()\r\n",
    "        self.dense2 = nn.Linear(ffn_num_hiddens, ffn_num_outputs)\r\n",
    "\r\n",
    "    def forward(self, X):\r\n",
    "        return self.dense2(self.relu(self.dense1(X)))#如果输入是大于2维的，前面的维度都当作样本维 另一种mlp"
   ],
   "outputs": [],
   "metadata": {}
  },
  {
   "cell_type": "code",
   "execution_count": 7,
   "source": [
    "ffn = PositionWiseFFN(4, 4, 8)\r\n",
    "ffn.eval()\r\n",
    "ffn(torch.ones((2, 3, 4)))#把最后一个转换成8"
   ],
   "outputs": [
    {
     "output_type": "execute_result",
     "data": {
      "text/plain": [
       "tensor([[[ 0.5565, -0.2153,  0.0779,  0.1034,  0.3341, -0.4907,  0.1622,\n",
       "          -0.6162],\n",
       "         [ 0.5565, -0.2153,  0.0779,  0.1034,  0.3341, -0.4907,  0.1622,\n",
       "          -0.6162],\n",
       "         [ 0.5565, -0.2153,  0.0779,  0.1034,  0.3341, -0.4907,  0.1622,\n",
       "          -0.6162]],\n",
       "\n",
       "        [[ 0.5565, -0.2153,  0.0779,  0.1034,  0.3341, -0.4907,  0.1622,\n",
       "          -0.6162],\n",
       "         [ 0.5565, -0.2153,  0.0779,  0.1034,  0.3341, -0.4907,  0.1622,\n",
       "          -0.6162],\n",
       "         [ 0.5565, -0.2153,  0.0779,  0.1034,  0.3341, -0.4907,  0.1622,\n",
       "          -0.6162]]], grad_fn=<AddBackward0>)"
      ]
     },
     "metadata": {},
     "execution_count": 7
    }
   ],
   "metadata": {}
  },
  {
   "cell_type": "code",
   "execution_count": 8,
   "source": [
    "#层归一化和批量归一化的目标相同，但层归一化是基于特征维度进行归一化。尽管批量归一化在计算机视觉中被广泛应用，\r\n",
    "# 但在自然语言处理任务中（输入通常是变长序列）批量归一化通常不如层归一化的效果好。\r\n",
    "ln = nn.LayerNorm(2)#均值为0 方差为1\r\n",
    "bn = nn.BatchNorm1d(2)\r\n",
    "X = torch.tensor([[1, 2], [2, 3]], dtype=torch.float32)\r\n",
    "# 在训练模式下计算 `X` 的均值和方差\r\n",
    "print('layer norm:', ln(X), '\\nbatch norm:', bn(X))"
   ],
   "outputs": [
    {
     "output_type": "stream",
     "name": "stdout",
     "text": [
      "layer norm: tensor([[-1.0000,  1.0000],\n",
      "        [-1.0000,  1.0000]], grad_fn=<NativeLayerNormBackward>) \n",
      "batch norm: tensor([[-1.0000, -1.0000],\n",
      "        [ 1.0000,  1.0000]], grad_fn=<NativeBatchNormBackward>)\n"
     ]
    }
   ],
   "metadata": {}
  },
  {
   "cell_type": "code",
   "execution_count": 9,
   "source": [
    "#@save\r\n",
    "class AddNorm(nn.Module):\r\n",
    "    def __init__(self, normalized_shape, dropout, **kwargs):\r\n",
    "        super(AddNorm, self).__init__(**kwargs)\r\n",
    "        self.dropout = nn.Dropout(dropout) #dropout是随机drop几层\r\n",
    "        self.ln = nn.LayerNorm(normalized_shape)#LayerNorm 层归一化\r\n",
    "    #residual让你的输入和输出加起来\r\n",
    "    def forward(self, X, Y):\r\n",
    "        return self.ln(self.dropout(Y) + X)"
   ],
   "outputs": [],
   "metadata": {}
  },
  {
   "cell_type": "code",
   "execution_count": 24,
   "source": [
    "#@save\r\n",
    "class EncoderBlock(nn.Module):\r\n",
    "    def __init__(self, key_size, query_size, value_size, num_hiddens,\r\n",
    "                 norm_shape, ffn_num_input, ffn_num_hiddens, num_heads,\r\n",
    "                 dropout, use_bias=False, **kwargs):\r\n",
    "        super(EncoderBlock, self).__init__(**kwargs)\r\n",
    "        self.attention = d2l.MultiHeadAttention(\r\n",
    "            key_size, query_size, value_size, num_hiddens, num_heads, dropout,\r\n",
    "            use_bias)\r\n",
    "        # self.attention = d2l.MultiHeadAttention(\r\n",
    "        #     key_size, query_size, value_size, num_hiddens, num_heads, dropout,\r\n",
    "        #     use_bias)\r\n",
    "        self.addnorm1 = AddNorm(norm_shape, dropout)\r\n",
    "        self.ffn = PositionWiseFFN(\r\n",
    "            ffn_num_input, ffn_num_hiddens, num_hiddens)\r\n",
    "        self.addnorm2 = AddNorm(norm_shape, dropout)\r\n",
    "\r\n",
    "    def forward(self, X, valid_lens):\r\n",
    "        Y = self.addnorm1(X, self.attention(X, X, X, valid_lens))\r\n",
    "        return self.addnorm2(Y, self.ffn(Y))"
   ],
   "outputs": [],
   "metadata": {}
  },
  {
   "cell_type": "code",
   "execution_count": 23,
   "source": [
    "X = torch.ones((2, 100, 24))\r\n",
    "valid_lens = torch.tensor([3, 2])\r\n",
    "encoder_blk = EncoderBlock(24, 24, 24, 24, [100, 24], 24, 48, 8, 0.5)\r\n",
    "encoder_blk.eval()\r\n",
    "encoder_blk(X, valid_lens).shape"
   ],
   "outputs": [
    {
     "output_type": "execute_result",
     "data": {
      "text/plain": [
       "torch.Size([2, 100, 24])"
      ]
     },
     "metadata": {},
     "execution_count": 23
    }
   ],
   "metadata": {}
  },
  {
   "cell_type": "code",
   "execution_count": null,
   "source": [
    "#@save\r\n",
    "class TransformerEncoderBlock(nn.Module):\r\n",
    "    def __init__(self, key_size, query_size, value_size, num_hiddens,\r\n",
    "                 norm_shape, ffn_num_input, ffn_num_hiddens, num_heads,\r\n",
    "                 dropout, use_bias=False, **kwargs):\r\n",
    "        super(EncoderBlock, self).__init__(**kwargs)\r\n",
    "        self.attention = MultiHeadAttention(\r\n",
    "            key_size, query_size, value_size, num_hiddens, num_heads, dropout,\r\n",
    "            use_bias)\r\n",
    "        # self.attention = d2l.MultiHeadAttention(\r\n",
    "        #     key_size, query_size, value_size, num_hiddens, num_heads, dropout,\r\n",
    "        #     use_bias)\r\n",
    "        self.addnorm1 = AddNorm(norm_shape, dropout)\r\n",
    "        self.ffn = PositionWiseFFN(\r\n",
    "            ffn_num_input, ffn_num_hiddens, num_hiddens)\r\n",
    "        self.addnorm2 = AddNorm(norm_shape, dropout)\r\n",
    "\r\n",
    "    def forward(self, X, valid_lens):\r\n",
    "        Y = self.addnorm1(X, self.attention(X, X, X, valid_lens))\r\n",
    "        return self.addnorm2(Y, self.ffn(Y))"
   ],
   "outputs": [],
   "metadata": {}
  },
  {
   "cell_type": "code",
   "execution_count": 26,
   "source": [
    "#@save\r\n",
    "class TransformerEncoder(d2l.Encoder):\r\n",
    "    def __init__(self, vocab_size, key_size, query_size, value_size,\r\n",
    "                 num_hiddens, norm_shape, ffn_num_input, ffn_num_hiddens,\r\n",
    "                 num_heads, num_layers, dropout, use_bias=False, **kwargs):\r\n",
    "        super(TransformerEncoder, self).__init__(**kwargs)\r\n",
    "        self.num_hiddens = num_hiddens\r\n",
    "        self.embedding = nn.Embedding(vocab_size, num_hiddens)\r\n",
    "        self.pos_encoding = d2l.PositionalEncoding(num_hiddens, dropout)\r\n",
    "        self.blks = nn.Sequential()\r\n",
    "        for i in range(num_layers):\r\n",
    "            self.blks.add_module(\"block\"+str(i),\r\n",
    "                EncoderBlock(key_size, query_size, value_size, num_hiddens,\r\n",
    "                             norm_shape, ffn_num_input, ffn_num_hiddens,\r\n",
    "                             num_heads, dropout, use_bias))\r\n",
    "\r\n",
    "    def forward(self, X, valid_lens, *args):\r\n",
    "        # 因为位置编码值在 -1 和 1 之间，\r\n",
    "        # 因此嵌入值乘以嵌入维度的平方根进行缩放，\r\n",
    "        # 然后再与位置编码相加。\r\n",
    "        X = self.pos_encoding(self.embedding(X) * math.sqrt(self.num_hiddens))\r\n",
    "        self.attention_weights = [None] * len(self.blks)\r\n",
    "        for i, blk in enumerate(self.blks):\r\n",
    "            X = blk(X, valid_lens)\r\n",
    "            self.attention_weights[i] = blk.attention.attention.attention_weights\r\n",
    "        return X"
   ],
   "outputs": [],
   "metadata": {}
  },
  {
   "cell_type": "code",
   "execution_count": 28,
   "source": [
    "encoder = TransformerEncoder(\r\n",
    "    200, 24, 24, 24, 24, [100, 24], 24, 48, 8, 2, 0.5)\r\n",
    "encoder.eval()\r\n",
    "encoder(torch.ones((2, 100), dtype=torch.long), valid_lens).shape"
   ],
   "outputs": [
    {
     "output_type": "execute_result",
     "data": {
      "text/plain": [
       "torch.Size([2, 100, 24])"
      ]
     },
     "metadata": {},
     "execution_count": 28
    }
   ],
   "metadata": {}
  },
  {
   "cell_type": "code",
   "execution_count": 29,
   "source": [
    "class DecoderBlock(nn.Module):\r\n",
    "    \"\"\"解码器中第 i 个块\"\"\"\r\n",
    "    def __init__(self, key_size, query_size, value_size, num_hiddens,\r\n",
    "                 norm_shape, ffn_num_input, ffn_num_hiddens, num_heads,\r\n",
    "                 dropout, i, **kwargs):\r\n",
    "        super(DecoderBlock, self).__init__(**kwargs)\r\n",
    "        self.i = i\r\n",
    "        self.attention1 = d2l.MultiHeadAttention(\r\n",
    "            key_size, query_size, value_size, num_hiddens, num_heads, dropout)\r\n",
    "        self.addnorm1 = AddNorm(norm_shape, dropout)\r\n",
    "        self.attention2 = d2l.MultiHeadAttention(\r\n",
    "            key_size, query_size, value_size, num_hiddens, num_heads, dropout)\r\n",
    "        self.addnorm2 = AddNorm(norm_shape, dropout)\r\n",
    "        self.ffn = PositionWiseFFN(ffn_num_input, ffn_num_hiddens,\r\n",
    "                                   num_hiddens)\r\n",
    "        self.addnorm3 = AddNorm(norm_shape, dropout)\r\n",
    "\r\n",
    "    def forward(self, X, state):\r\n",
    "        enc_outputs, enc_valid_lens = state[0], state[1]\r\n",
    "        # 训练阶段，输出序列的所有词元都在同一时间处理，\r\n",
    "        # 因此 `state[2][self.i]` 初始化为 `None`。\r\n",
    "        # 预测阶段，输出序列是通过词元一个接着一个解码的，\r\n",
    "        # 因此 `state[2][self.i]` 包含着直到当前时间步第 `i` 个块解码的输出表示\r\n",
    "        if state[2][self.i] is None:\r\n",
    "            key_values = X\r\n",
    "        else:\r\n",
    "            key_values = torch.cat((state[2][self.i], X), axis=1)\r\n",
    "        state[2][self.i] = key_values\r\n",
    "        if self.training:\r\n",
    "            batch_size, num_steps, _ = X.shape\r\n",
    "            # `dec_valid_lens` 的开头: (`batch_size`, `num_steps`),\r\n",
    "            # 其中每一行是 [1, 2, ..., `num_steps`]\r\n",
    "            dec_valid_lens = torch.arange(\r\n",
    "                1, num_steps + 1, device=X.device).repeat(batch_size, 1)\r\n",
    "        else:\r\n",
    "            dec_valid_lens = None\r\n",
    "\r\n",
    "        # 自注意力\r\n",
    "        X2 = self.attention1(X, key_values, key_values, dec_valid_lens)\r\n",
    "        Y = self.addnorm1(X, X2)\r\n",
    "        # 编码器－解码器注意力。\r\n",
    "        # `enc_outputs` 的开头: (`batch_size`, `num_steps`, `num_hiddens`)\r\n",
    "        Y2 = self.attention2(Y, enc_outputs, enc_outputs, enc_valid_lens)\r\n",
    "        Z = self.addnorm2(Y, Y2)\r\n",
    "        return self.addnorm3(Z, self.ffn(Z)), state"
   ],
   "outputs": [],
   "metadata": {}
  },
  {
   "cell_type": "code",
   "execution_count": null,
   "source": [
    "class TransformerDecoder(d2l.AttentionDecoder):\r\n",
    "    def __init__(self, vocab_size, key_size, query_size, value_size,\r\n",
    "                 num_hiddens, norm_shape, ffn_num_input, ffn_num_hiddens,\r\n",
    "                 num_heads, num_layers, dropout, **kwargs):\r\n",
    "        super(TransformerDecoder, self).__init__(**kwargs)\r\n",
    "        self.num_hiddens = num_hiddens\r\n",
    "        self.num_layers = num_layers\r\n",
    "        self.embedding = nn.Embedding(vocab_size, num_hiddens)\r\n",
    "        self.pos_encoding = d2l.PositionalEncoding(num_hiddens, dropout)\r\n",
    "        self.blks = nn.Sequential()\r\n",
    "        for i in range(num_layers):\r\n",
    "            self.blks.add_module(\"block\"+str(i),\r\n",
    "                DecoderBlock(key_size, query_size, value_size, num_hiddens,\r\n",
    "                             norm_shape, ffn_num_input, ffn_num_hiddens,\r\n",
    "                             num_heads, dropout, i))\r\n",
    "        self.dense = nn.Linear(num_hiddens, vocab_size)\r\n",
    "\r\n",
    "    def init_state(self, enc_outputs, enc_valid_lens, *args):\r\n",
    "        return [enc_outputs, enc_valid_lens, [None] * self.num_layers]\r\n",
    "\r\n",
    "    def forward(self, X, state):\r\n",
    "        X = self.pos_encoding(self.embedding(X) * math.sqrt(self.num_hiddens))\r\n",
    "        self._attention_weights = [[None] * len(self.blks) for _ in range (2)]\r\n",
    "        for i, blk in enumerate(self.blks):\r\n",
    "            X, state = blk(X, state)\r\n",
    "            # 解码器自注意力权重\r\n",
    "            self._attention_weights[0][\r\n",
    "                i] = blk.attention1.attention.attention_weights\r\n",
    "            # “编码器－解码器”自注意力权重\r\n",
    "            self._attention_weights[1][\r\n",
    "                i] = blk.attention2.attention.attention_weights\r\n",
    "        return self.dense(X), state\r\n",
    "\r\n",
    "    @property\r\n",
    "    def attention_weights(self):\r\n",
    "        return self._attention_weights"
   ],
   "outputs": [],
   "metadata": {}
  }
 ],
 "metadata": {
  "orig_nbformat": 4,
  "language_info": {
   "name": "python",
   "version": "3.7.10",
   "mimetype": "text/x-python",
   "codemirror_mode": {
    "name": "ipython",
    "version": 3
   },
   "pygments_lexer": "ipython3",
   "nbconvert_exporter": "python",
   "file_extension": ".py"
  },
  "kernelspec": {
   "name": "python3",
   "display_name": "Python 3.7.10 64-bit ('pytorch': conda)"
  },
  "interpreter": {
   "hash": "748dbdca4f5d9507dbf5438deb9fb0c5af4d959a1362599ffdf2eaf1f99424f2"
  }
 },
 "nbformat": 4,
 "nbformat_minor": 2
}