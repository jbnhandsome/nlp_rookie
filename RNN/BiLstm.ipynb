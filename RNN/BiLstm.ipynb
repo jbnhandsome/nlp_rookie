{
 "cells": [
  {
   "cell_type": "code",
   "execution_count": 1,
   "metadata": {},
   "outputs": [],
   "source": [
    "import torch\n",
    "import numpy as np\n",
    "import torch.nn as nn\n",
    "import torch.optim as optim\n",
    "import torch.utils.data as Data\n",
    "\n",
    "dtype = torch.FloatTensor"
   ]
  },
  {
   "cell_type": "code",
   "execution_count": 2,
   "metadata": {},
   "outputs": [],
   "source": [
    "#准备数据，这里是一个句子\n",
    "sentence = (\n",
    "    'GitHub Actions makes it easy to automate all your software workflows '\n",
    "    'from continuous integration and delivery to issue triage and more'\n",
    ")\n",
    "#制作词典\n",
    "word2idx = {w: i for i, w in enumerate(list(set(sentence.split())))}\n",
    "idx2word = {i: w for i, w in enumerate(list(set(sentence.split())))}\n",
    "n_class = len(word2idx) # 多分类问题 每个词都是一个特殊的类\n",
    "max_len = len(sentence.split())\n",
    "n_hidden = 5"
   ]
  },
  {
   "cell_type": "markdown",
   "metadata": {},
   "source": [
    "下一步是数据填充。\n",
    "对于下面的循环来讲，input 的第一个赋值语句会将第一个词 Github 对应的索引存起来。input 的第二个赋值语句会将剩下的 max_len - len(input) 都用 0 去填充\n",
    "target 就会变成 Actions\n",
    "\n",
    "比如 i=0时\n",
    "\n",
    "GitHub 0 0 0 0 0 0 0 0 0 0\n",
    "\n",
    "然后我们一个一个去预测下一个单词\n",
    "\n",
    "GitHub Actions 0 0 0 0 0 0 0 0 0\n",
    "\n",
    "input 的长度永远保持 max_len(=21)，并且循环了 max_len-1 次，所以最终 input_batch 的维度是 [max_len - 1, max_len, n_class]"
   ]
  },
  {
   "cell_type": "code",
   "execution_count": 4,
   "metadata": {},
   "outputs": [],
   "source": [
    "def make_data(sentence):\n",
    "    input_batch = []\n",
    "    target_batch = []\n",
    "\n",
    "    words = sentence.split()\n",
    "    for i in range(max_len - 1):#循环20次\n",
    "        input = [word2idx[n] for n in words[:(i + 1)]]#[1]\n",
    "        input = input + [0] * (max_len - len(input))#[1] + [0] * 20 这里0起到占位符的作用\n",
    "        target = word2idx[words[i + 1]]#预测的字符 [2]\n",
    "        input_batch.append(np.eye(n_class)[input]) # np.eye()的函数，除了生成对角阵外，还可以将一个label数组，\n",
    "        #大小为(1,m)或者(m,1)的数组，转化成one-hot数组。\n",
    "        target_batch.append(target)\n",
    "\n",
    "    return torch.Tensor(input_batch), torch.LongTensor(target_batch)\n",
    "\n",
    "# input_batch: [max_len - 1, max_len, n_class]\n",
    "input_batch, target_batch = make_data(sentence)\n",
    "dataset = Data.TensorDataset(input_batch, target_batch)\n",
    "loader = Data.DataLoader(dataset, 16, True)"
   ]
  },
  {
   "cell_type": "code",
   "execution_count": 5,
   "metadata": {},
   "outputs": [],
   "source": [
    "class BiLSTM(nn.Module):\n",
    "    def __init__(self):\n",
    "        super(BiLSTM, self).__init__()\n",
    "        self.lstm = nn.LSTM(input_size=n_class, hidden_size=n_hidden, bidirectional=True)\n",
    "        # fc\n",
    "        self.fc = nn.Linear(n_hidden * 2, n_class)\n",
    "\n",
    "    def forward(self, X):\n",
    "        # X: [batch_size, max_len, n_class]\n",
    "        batch_size = X.shape[0]\n",
    "        input = X.transpose(0, 1)  #  这里交换的话是必须把batch_size放在第二个维度上 input : [max_len, batch_size, n_class]\n",
    "\n",
    "        hidden_state = torch.randn(1*2, batch_size, n_hidden)   # [num_layers(=1) * num_directions(=2), batch_size, n_hidden]\n",
    "        cell_state = torch.randn(1*2, batch_size, n_hidden)     # [num_layers(=1) * num_directions(=2), batch_size, n_hidden]\n",
    "\n",
    "        outputs, (_, _) = self.lstm(input, (hidden_state, cell_state))\n",
    "        outputs = outputs[-1]  # [batch_size, n_hidden * 2]\n",
    "        model = self.fc(outputs)  # model : [batch_size, n_class]\n",
    "        return model\n",
    "\n",
    "model = BiLSTM()\n",
    "criterion = nn.CrossEntropyLoss()\n",
    "optimizer = optim.Adam(model.parameters(), lr=0.001)"
   ]
  },
  {
   "cell_type": "code",
   "execution_count": 6,
   "metadata": {},
   "outputs": [
    {
     "name": "stdout",
     "output_type": "stream",
     "text": [
      "Epoch: 1000 cost = 1.598237\n",
      "Epoch: 1000 cost = 1.769609\n",
      "Epoch: 2000 cost = 1.308757\n",
      "Epoch: 2000 cost = 1.373865\n",
      "Epoch: 3000 cost = 0.947228\n",
      "Epoch: 3000 cost = 1.275564\n",
      "Epoch: 4000 cost = 0.881621\n",
      "Epoch: 4000 cost = 0.577002\n",
      "Epoch: 5000 cost = 0.610097\n",
      "Epoch: 5000 cost = 1.088931\n",
      "Epoch: 6000 cost = 0.558699\n",
      "Epoch: 6000 cost = 0.733245\n",
      "Epoch: 7000 cost = 0.433467\n",
      "Epoch: 7000 cost = 0.843847\n",
      "Epoch: 8000 cost = 0.502204\n",
      "Epoch: 8000 cost = 0.230651\n",
      "Epoch: 9000 cost = 0.354675\n",
      "Epoch: 9000 cost = 0.649028\n",
      "Epoch: 10000 cost = 0.379112\n",
      "Epoch: 10000 cost = 0.403667\n",
      "GitHub Actions makes it easy to automate all your software workflows from continuous integration and delivery to issue triage and more\n",
      "['Actions', 'makes', 'it', 'easy', 'to', 'automate', 'all', 'your', 'workflows', 'workflows', 'from', 'integration', 'integration', 'and', 'and', 'to', 'issue', 'triage', 'and', 'and']\n"
     ]
    }
   ],
   "source": [
    "# Training\n",
    "for epoch in range(10000):\n",
    "    for x, y in loader:\n",
    "      pred = model(x)\n",
    "      loss = criterion(pred, y)\n",
    "      if (epoch + 1) % 1000 == 0:\n",
    "          print('Epoch:', '%04d' % (epoch + 1), 'cost =', '{:.6f}'.format(loss))\n",
    "\n",
    "      optimizer.zero_grad()\n",
    "      loss.backward()\n",
    "      optimizer.step()\n",
    "\n",
    "# Pred\n",
    "predict = model(input_batch).data.max(1, keepdim=True)[1]\n",
    "print(sentence)\n",
    "print([idx2word[n.item()] for n in predict.squeeze()])"
   ]
  },
  {
   "cell_type": "code",
   "execution_count": null,
   "metadata": {},
   "outputs": [],
   "source": []
  }
 ],
 "metadata": {
  "interpreter": {
   "hash": "748dbdca4f5d9507dbf5438deb9fb0c5af4d959a1362599ffdf2eaf1f99424f2"
  },
  "kernelspec": {
   "display_name": "Python 3.7.10 64-bit ('pytorch': conda)",
   "name": "python3"
  },
  "language_info": {
   "codemirror_mode": {
    "name": "ipython",
    "version": 3
   },
   "file_extension": ".py",
   "mimetype": "text/x-python",
   "name": "python",
   "nbconvert_exporter": "python",
   "pygments_lexer": "ipython3",
   "version": "3.7.10"
  },
  "orig_nbformat": 4
 },
 "nbformat": 4,
 "nbformat_minor": 2
}
